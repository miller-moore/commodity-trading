{
 "cells": [
  {
   "cell_type": "code",
   "execution_count": 3,
   "metadata": {},
   "outputs": [
    {
     "data": {
      "text/plain": [
       "5"
      ]
     },
     "execution_count": 3,
     "metadata": {},
     "output_type": "execute_result"
    }
   ],
   "source": [
    "from ctmds.random_prices import rand_uniform_prices\n",
    "\n",
    "len(rand_uniform_prices(5))"
   ]
  },
  {
   "cell_type": "code",
   "execution_count": null,
   "metadata": {},
   "outputs": [],
   "source": [
    "import pytz\n",
    "from datetime import datetime, timedelta\n",
    "import pandas as pd\n",
    "\n",
    "COUNTRY_ISO_TO_TIMEZONE = {\n",
    "    \"GB\": \"Europe/London\",\n",
    "    \"FR\": \"Europe/Paris\",\n",
    "    \"NL\": \"Europe/Amsterdam\",\n",
    "    \"DE\": \"Europe/Berlin\",\n",
    "}\n",
    "\n",
    "def get_country_datetime_series(date_str: str, country_code: str, granularity: str = \"hourly\") -> pd.DatetimeIndex:\n",
    "    \"\"\"\n",
    "    Get the point-in-time accurate timestamps for a given date and country ISO code,\n",
    "    accounting for daylight savings time transitions by detecting if a given date is a daylight\n",
    "    saving transition (spring forward or fall back).\n",
    "\n",
    "    On spring forward dates, this will result in fewer timestamps than in a normal 24 hour period.\n",
    "    On fall back dates, this will result in more timestamps than in a normal 24 hour period.\n",
    "    \"\"\"\n",
    "    if country_code not in COUNTRY_ISO_TO_TIMEZONE:\n",
    "        raise ValueError(\"Unsupported country ISO code.\")\n",
    "\n",
    "    tz = pytz.timezone(COUNTRY_ISO_TO_TIMEZONE[country_code])\n",
    "\n",
    "    # Convert input date to a datetime object at midnight\n",
    "    dt = datetime.strptime(date_str, \"%Y-%m-%d\").replace(hour=0, minute=0)\n",
    "\n",
    "    # Get the timezone naive time series\n",
    "    freq = \"h\" if granularity == \"hourly\" else \"30min\"\n",
    "    naive_range = pd.date_range(start=dt, end=dt + timedelta(days=1, seconds=-1), freq=freq)\n",
    "\n",
    "    ## Auto-detect DST transition:\n",
    "    # Localize in \"strict\" mode to avoid automatic DST correction\n",
    "    dt_before = tz.localize(dt, is_dst=None)\n",
    "    dt_after = tz.localize(dt + timedelta(days=1), is_dst=None)\n",
    "    # Get UTC offset before and after transition to detect if spring forward, fall back, or neither\n",
    "    offset_before = dt_before.utcoffset()\n",
    "    offset_after = dt_after.utcoffset()\n",
    "\n",
    "    # Get final timezone-aware timeseries, with proper timestamp values\n",
    "    if offset_before < offset_after:\n",
    "        # Spring Forward (DST Start)\n",
    "        # print(\"spring forward\")\n",
    "        # Convert to timezone-aware timestamps\n",
    "        aware_range = naive_range.tz_localize(tz, nonexistent=\"NaT\")\n",
    "        # Drop NaT values (times that don't exist on spring forward)\n",
    "        return aware_range.dropna()\n",
    "    elif offset_before > offset_after:\n",
    "        # Fall Back (DST End)\n",
    "        # print(\"fall back\")\n",
    "        # Combine two series, one that uses DST before transition & other uses non-DST after trans\n",
    "        first_occurrence = naive_range.tz_localize(tz, ambiguous=False)\n",
    "        second_occurrence = naive_range.tz_localize(tz, ambiguous=True)\n",
    "        # Drop duplicates, effectively keeping the hours over the transition period\n",
    "        return pd.concat(\n",
    "            [first_occurrence.to_series(), second_occurrence.to_series()]\n",
    "        ).drop_duplicates(keep=\"first\").sort_values().index\n",
    "    else:\n",
    "        # No DST Transition\n",
    "        return naive_range.tz_localize(tz)"
   ]
  },
  {
   "cell_type": "code",
   "execution_count": null,
   "metadata": {},
   "outputs": [
    {
     "name": "stdout",
     "output_type": "stream",
     "text": [
      "fall back\n",
      "50\n"
     ]
    },
    {
     "data": {
      "text/plain": [
       "DatetimeIndex(['2024-10-27 00:00:00+01:00', '2024-10-27 00:30:00+01:00',\n",
       "               '2024-10-27 01:00:00+01:00', '2024-10-27 01:30:00+01:00',\n",
       "               '2024-10-27 01:00:00+00:00', '2024-10-27 01:30:00+00:00',\n",
       "               '2024-10-27 02:00:00+00:00', '2024-10-27 02:30:00+00:00',\n",
       "               '2024-10-27 03:00:00+00:00', '2024-10-27 03:30:00+00:00',\n",
       "               '2024-10-27 04:00:00+00:00', '2024-10-27 04:30:00+00:00',\n",
       "               '2024-10-27 05:00:00+00:00', '2024-10-27 05:30:00+00:00',\n",
       "               '2024-10-27 06:00:00+00:00', '2024-10-27 06:30:00+00:00',\n",
       "               '2024-10-27 07:00:00+00:00', '2024-10-27 07:30:00+00:00',\n",
       "               '2024-10-27 08:00:00+00:00', '2024-10-27 08:30:00+00:00',\n",
       "               '2024-10-27 09:00:00+00:00', '2024-10-27 09:30:00+00:00',\n",
       "               '2024-10-27 10:00:00+00:00', '2024-10-27 10:30:00+00:00',\n",
       "               '2024-10-27 11:00:00+00:00', '2024-10-27 11:30:00+00:00',\n",
       "               '2024-10-27 12:00:00+00:00', '2024-10-27 12:30:00+00:00',\n",
       "               '2024-10-27 13:00:00+00:00', '2024-10-27 13:30:00+00:00',\n",
       "               '2024-10-27 14:00:00+00:00', '2024-10-27 14:30:00+00:00',\n",
       "               '2024-10-27 15:00:00+00:00', '2024-10-27 15:30:00+00:00',\n",
       "               '2024-10-27 16:00:00+00:00', '2024-10-27 16:30:00+00:00',\n",
       "               '2024-10-27 17:00:00+00:00', '2024-10-27 17:30:00+00:00',\n",
       "               '2024-10-27 18:00:00+00:00', '2024-10-27 18:30:00+00:00',\n",
       "               '2024-10-27 19:00:00+00:00', '2024-10-27 19:30:00+00:00',\n",
       "               '2024-10-27 20:00:00+00:00', '2024-10-27 20:30:00+00:00',\n",
       "               '2024-10-27 21:00:00+00:00', '2024-10-27 21:30:00+00:00',\n",
       "               '2024-10-27 22:00:00+00:00', '2024-10-27 22:30:00+00:00',\n",
       "               '2024-10-27 23:00:00+00:00', '2024-10-27 23:30:00+00:00'],\n",
       "              dtype='datetime64[ns, Europe/London]', freq=None)"
      ]
     },
     "execution_count": 116,
     "metadata": {},
     "output_type": "execute_result"
    }
   ],
   "source": [
    "# ts = get_country_datetime_series(\"2024-03-31\", \"GB\", \"half-hourly\")\n",
    "ts = get_country_datetime_series(\"2024-10-27\", \"GB\", \"half-hourly\")\n",
    "print(len(ts))\n",
    "ts"
   ]
  },
  {
   "cell_type": "code",
   "execution_count": 118,
   "metadata": {},
   "outputs": [
    {
     "data": {
      "text/plain": [
       "['2024-10-27 00:00',\n",
       " '2024-10-27 00:30',\n",
       " '2024-10-27 01:00',\n",
       " '2024-10-27 01:30',\n",
       " '2024-10-27 01:00',\n",
       " '2024-10-27 01:30',\n",
       " '2024-10-27 02:00',\n",
       " '2024-10-27 02:30',\n",
       " '2024-10-27 03:00',\n",
       " '2024-10-27 03:30',\n",
       " '2024-10-27 04:00',\n",
       " '2024-10-27 04:30',\n",
       " '2024-10-27 05:00',\n",
       " '2024-10-27 05:30',\n",
       " '2024-10-27 06:00',\n",
       " '2024-10-27 06:30',\n",
       " '2024-10-27 07:00',\n",
       " '2024-10-27 07:30',\n",
       " '2024-10-27 08:00',\n",
       " '2024-10-27 08:30',\n",
       " '2024-10-27 09:00',\n",
       " '2024-10-27 09:30',\n",
       " '2024-10-27 10:00',\n",
       " '2024-10-27 10:30',\n",
       " '2024-10-27 11:00',\n",
       " '2024-10-27 11:30',\n",
       " '2024-10-27 12:00',\n",
       " '2024-10-27 12:30',\n",
       " '2024-10-27 13:00',\n",
       " '2024-10-27 13:30',\n",
       " '2024-10-27 14:00',\n",
       " '2024-10-27 14:30',\n",
       " '2024-10-27 15:00',\n",
       " '2024-10-27 15:30',\n",
       " '2024-10-27 16:00',\n",
       " '2024-10-27 16:30',\n",
       " '2024-10-27 17:00',\n",
       " '2024-10-27 17:30',\n",
       " '2024-10-27 18:00',\n",
       " '2024-10-27 18:30',\n",
       " '2024-10-27 19:00',\n",
       " '2024-10-27 19:30',\n",
       " '2024-10-27 20:00',\n",
       " '2024-10-27 20:30',\n",
       " '2024-10-27 21:00',\n",
       " '2024-10-27 21:30',\n",
       " '2024-10-27 22:00',\n",
       " '2024-10-27 22:30',\n",
       " '2024-10-27 23:00',\n",
       " '2024-10-27 23:30']"
      ]
     },
     "execution_count": 118,
     "metadata": {},
     "output_type": "execute_result"
    }
   ],
   "source": [
    "[t.strftime(\"%Y-%m-%d %H:%M\") for t in ts]"
   ]
  },
  {
   "cell_type": "code",
   "execution_count": null,
   "metadata": {},
   "outputs": [],
   "source": []
  }
 ],
 "metadata": {
  "kernelspec": {
   "display_name": "venv",
   "language": "python",
   "name": "python3"
  },
  "language_info": {
   "codemirror_mode": {
    "name": "ipython",
    "version": 3
   },
   "file_extension": ".py",
   "mimetype": "text/x-python",
   "name": "python",
   "nbconvert_exporter": "python",
   "pygments_lexer": "ipython3",
   "version": "3.12.2"
  }
 },
 "nbformat": 4,
 "nbformat_minor": 2
}
